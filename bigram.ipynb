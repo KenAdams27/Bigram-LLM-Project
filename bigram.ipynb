{
 "cells": [
  {
   "cell_type": "code",
   "execution_count": 1,
   "metadata": {},
   "outputs": [
    {
     "name": "stdout",
     "output_type": "stream",
     "text": [
      "cuda\n"
     ]
    }
   ],
   "source": [
    "import torch\n",
    "import torch.nn as nn\n",
    "from torch.nn import functional as F\n",
    "device = 'cuda' if torch.cuda.is_available() else 'cpu'\n",
    "print(device)\n",
    "block_size=8\n",
    "batch_size=4\n",
    "max_iters=10000\n",
    "learning_rate=3e-4\n",
    "eval_iters=1000"
   ]
  },
  {
   "cell_type": "code",
   "execution_count": 2,
   "metadata": {},
   "outputs": [],
   "source": [
    "#opening the data file\n",
    "with open('wizard_of_oz.txt','r',encoding='utf-8') as f:\n",
    "    text = f.read()\n",
    "chars = sorted(set(text))\n",
    "vocab_size=len(chars)\n"
   ]
  },
  {
   "cell_type": "code",
   "execution_count": 3,
   "metadata": {},
   "outputs": [],
   "source": [
    "#creating a character level tokenizer for encoding the text\n",
    "string_to_int={ch:i for i,ch in enumerate(chars)}\n",
    "int_to_string={i:ch for i,ch in enumerate(chars)}\n",
    "encode = lambda s:[string_to_int[c] for c in s]\n",
    "decode = lambda l: ''.join([int_to_string[i] for i in l])\n",
    "\n",
    "data = torch.tensor(encode(text), dtype = torch.long)\n"
   ]
  },
  {
   "cell_type": "code",
   "execution_count": 4,
   "metadata": {},
   "outputs": [],
   "source": [
    "n= int(0.8*len(data))\n",
    "train_data=data[:n]\n",
    "val_data=data[n:]\n",
    "\n",
    "def get_batch(split):\n",
    "    data=train_data if split==\"train\" else val_data\n",
    "    ix = torch.randint(len(data) - block_size,(batch_size,))\n",
    "    x = torch.stack([data[i:i + block_size] for i in ix])\n",
    "    y = torch.stack([data[i+1:i+(block_size+1)] for i in ix])\n",
    "    x,y=x.to(device),y.to(device)\n",
    "    return x,y\n",
    "\n",
    "x,y = get_batch(\"train\")\n"
   ]
  },
  {
   "cell_type": "code",
   "execution_count": 5,
   "metadata": {},
   "outputs": [],
   "source": [
    "@torch.no_grad()\n",
    "def estimate_loss():\n",
    "    out = {}\n",
    "    model.eval()\n",
    "    for split in ['train', 'val']:\n",
    "        losses = torch.zeros(eval_iters)\n",
    "        for k in range(eval_iters):\n",
    "            X, Y = get_batch(split)\n",
    "            logits, loss = model(X, Y)\n",
    "            losses[k] = loss.item()\n",
    "        out[split] = losses.mean()\n",
    "    model.train()\n",
    "    return out"
   ]
  },
  {
   "cell_type": "code",
   "execution_count": 6,
   "metadata": {},
   "outputs": [
    {
     "name": "stdout",
     "output_type": "stream",
     "text": [
      "\n",
      "0cwpx.;wG1x&zFE*PawOUS IXsvqH﻿!Bb\n",
      "P8A.lwFGbSWJx&Vn3ZHwX;[BhL_4EPc8mfc:faM670H4?;AEC1z\"Sz4Y.sTh;S_Nc;Jol6KD*D&SkNTQb(ENc:Xzy5mAnS!.z L_Jo*LBQfc33K32ti8﻿7WnN\n",
      "NJo *D4nSLur.s]WhJ&zZnS46fUsh)nMLP-Tiep!ji?fhWyMQfsl:bVle)BFt&kDOb dK);B5Sk9h:K)a'aGU3LlDnBrnM9rIHxh6oC﻿?f)MXQWT\"Ym7ncCTJK'zEaz,.m﻿[B2il*;g6x&jwu\n",
      "v'tiAWaL7UfvbX54JB[()70X5)U\"\"P8AWB5)﻿DQ﻿2Cq4:GB],Y.zi2o?YQsbIWlLP4:&*54?YK3rA!*\n",
      "9mZOGW9xU]:,FuLIr.dwWeDO[4Nq4g[Xxm_o[(UpC DbIy,5lD[sUsIzK3O\n",
      "a1Er.k'u&L9!6oGFx\"[d(N\n",
      "BMfxR:22f_JY'B4nc):z1xM LxdjHU﻿b&z﻿\n"
     ]
    }
   ],
   "source": [
    "#the main class for the model\n",
    "class BigramLanguageModel(nn.Module):\n",
    "    def __init__(self,vocab_size):\n",
    "        super().__init__()\n",
    "        self.token_embedding_table = nn.Embedding(vocab_size,vocab_size)\n",
    "    #creating logits and calculating loss for model optimization \n",
    "    def forward(self,index,targets=None):\n",
    "        logits = self.token_embedding_table(index)\n",
    "        #in this case the logits will be three dimensional\n",
    "        if targets==None:\n",
    "            loss=None\n",
    "        #in this case the logits will be two dimensional\n",
    "        else:\n",
    "            B,T,C = logits.shape\n",
    "            logits = logits.view(B*T,C)\n",
    "            targets = targets.view(B*T)\n",
    "            loss = F.cross_entropy(logits,targets)\n",
    "\n",
    "        return logits,loss\n",
    "    #this function will generate the next sequence of most likely characters based on our data and probability\n",
    "    def generate(self,index,max_new_tokens):\n",
    "         for _ in range(max_new_tokens):\n",
    "             logits,loss=self.forward(index)\n",
    "             logits=logits[:,-1,:]\n",
    "             probs=F.softmax(logits,dim=-1)\n",
    "             index_next=torch.multinomial(probs,num_samples=1)\n",
    "             index=torch.cat((index,index_next),dim=1)\n",
    "         return index\n",
    "\n",
    "model = BigramLanguageModel(vocab_size)\n",
    "m=model.to(device)\n",
    "context=torch.zeros((1,1),dtype=torch.long,device=device)\n",
    "generated_chars=decode(m.generate(context,max_new_tokens=500)[0].tolist())\n",
    "print(generated_chars)\n"
   ]
  },
  {
   "cell_type": "code",
   "execution_count": 16,
   "metadata": {},
   "outputs": [
    {
     "name": "stdout",
     "output_type": "stream",
     "text": [
      "Iteration : 0 , loss {'train': tensor(2.4840), 'val': tensor(2.5187)} \n",
      "Iteration : 1000 , loss {'train': tensor(2.4508), 'val': tensor(2.5126)} \n",
      "Iteration : 2000 , loss {'train': tensor(2.4683), 'val': tensor(2.5118)} \n",
      "Iteration : 3000 , loss {'train': tensor(2.4740), 'val': tensor(2.5125)} \n",
      "Iteration : 4000 , loss {'train': tensor(2.4638), 'val': tensor(2.5133)} \n",
      "Iteration : 5000 , loss {'train': tensor(2.4671), 'val': tensor(2.5008)} \n",
      "Iteration : 6000 , loss {'train': tensor(2.4633), 'val': tensor(2.5042)} \n",
      "Iteration : 7000 , loss {'train': tensor(2.4496), 'val': tensor(2.5050)} \n",
      "Iteration : 8000 , loss {'train': tensor(2.4621), 'val': tensor(2.5005)} \n",
      "Iteration : 9000 , loss {'train': tensor(2.4511), 'val': tensor(2.4832)} \n",
      "2.486356735229492\n"
     ]
    }
   ],
   "source": [
    "#Creating a pytorch optimizer\n",
    "optimizer = torch.optim.AdamW(model.parameters() ,lr=learning_rate)\n",
    "\n",
    "for iter in range(max_iters):\n",
    "    if iter % eval_iters == 0:\n",
    "        losses=estimate_loss()\n",
    "        print(f'Iteration : {iter} , loss {losses} ')\n",
    "    #sample a batch of data\n",
    "    xb,yb = get_batch('train')\n",
    "    #evaluate the loss\n",
    "    logits,loss = model.forward(xb,yb)\n",
    "    optimizer.zero_grad(set_to_none=True)#space optimization\n",
    "    loss.backward()\n",
    "    optimizer.step()\n",
    "\n",
    "print(loss.item())\n"
   ]
  },
  {
   "cell_type": "code",
   "execution_count": 15,
   "metadata": {},
   "outputs": [
    {
     "name": "stdout",
     "output_type": "stream",
     "text": [
      "\n",
      "\" fe Whebo ce are he INaint funy, bad anthe  uthegesedn Ru f at\n",
      "Tougr ito m tofooshedssinsags?kimor\n",
      "k te\n",
      "If ce 1h 1blina thrat cad Itris d fry t ig'Yy send\n",
      "OND2OThangre'Ue p Felonirarong\n",
      "booperica rigghy s WITH.\"Wishe-chome ft f, orf bul, s han t n t\n",
      "I81]\n",
      "SIld bshed y ibugachereninlewheavHO)ngrned fe id.\"Cpourerecouen\n",
      "I,\"Ohateen t my O3u\n",
      "f\n",
      "A\n",
      "AHNAm In waf   orikn S9x.\" abunseag azafoon s. there ve,y, saneg aw\n",
      "\n",
      "\n",
      "rd b,  arn]Eve jC[r f he \"iaclare ad sth atthig?-by m\n",
      "fa b PqG. husthex&Eghe whe. mera\n"
     ]
    }
   ],
   "source": [
    "context = torch.zeros((1,1),dtype=torch.long , device=device)\n",
    "generated_chars = decode(m.generate(context , max_new_tokens = 500)[0].tolist())\n",
    "print(generated_chars)"
   ]
  },
  {
   "cell_type": "code",
   "execution_count": null,
   "metadata": {},
   "outputs": [],
   "source": []
  }
 ],
 "metadata": {
  "kernelspec": {
   "display_name": "cuda-gpt",
   "language": "python",
   "name": "cuda"
  },
  "language_info": {
   "codemirror_mode": {
    "name": "ipython",
    "version": 3
   },
   "file_extension": ".py",
   "mimetype": "text/x-python",
   "name": "python",
   "nbconvert_exporter": "python",
   "pygments_lexer": "ipython3",
   "version": "3.11.5"
  }
 },
 "nbformat": 4,
 "nbformat_minor": 4
}
